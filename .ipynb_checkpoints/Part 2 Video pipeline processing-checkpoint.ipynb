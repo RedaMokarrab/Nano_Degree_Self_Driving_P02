{
 "cells": [
  {
   "cell_type": "markdown",
   "metadata": {},
   "source": [
    "# Self-Driving Car Engineer Nanodegree\n",
    "\n",
    "\n",
    "## Project: **Advanced Lane finding ** \n",
    "\n",
    "### Part 1: Camera Calibration + Writeup preparation"
   ]
  },
  {
   "cell_type": "markdown",
   "metadata": {},
   "source": [
    "#### Import Packages"
   ]
  },
  {
   "cell_type": "code",
   "execution_count": 1,
   "metadata": {},
   "outputs": [],
   "source": [
    "#importing some useful packages\n",
    "import matplotlib.pyplot as plt\n",
    "import matplotlib.image as mpimg\n",
    "import numpy as np\n",
    "import cv2\n",
    "import math\n",
    "import os\n",
    "import pickle\n",
    "from moviepy.editor import VideoFileClip\n",
    "from IPython.display import HTML\n",
    "\n",
    "from line import *\n",
    "from support_functions import *\n",
    "\n",
    "%matplotlib inline"
   ]
  },
  {
   "cell_type": "markdown",
   "metadata": {},
   "source": [
    "#### Read saved parameters and add new parameters:"
   ]
  },
  {
   "cell_type": "code",
   "execution_count": 2,
   "metadata": {},
   "outputs": [],
   "source": [
    "calibration_pickle = pickle.load( open( \"calibration_parameters.p\", \"rb\" ) )\n",
    "mtx = calibration_pickle[\"mtx\"]\n",
    "dist = calibration_pickle[\"dist_coff\"]\n",
    "M_mean = calibration_pickle[\"matrix\"]\n",
    "MInverse = calibration_pickle[\"inverse_matrix\"]\n",
    "s_channel_thresh = calibration_pickle[\"s_channel_thresh\"]\n",
    "gradient_thresh = calibration_pickle[\"gradient_thresh\"]\n",
    "l_channel_thresh = calibration_pickle[\"l_channel_thresh\"]"
   ]
  },
  {
   "cell_type": "code",
   "execution_count": 3,
   "metadata": {},
   "outputs": [],
   "source": [
    "#search from previous margin\n",
    "search_margin = 60\n",
    "# number of sliding windows\n",
    "nwindows = 9\n",
    "# Set the width of the windows +/- margin\n",
    "window_margin = 70\n",
    "# Set minimum number of pixels found to recenter window\n",
    "minpix = 35"
   ]
  },
  {
   "cell_type": "code",
   "execution_count": 4,
   "metadata": {},
   "outputs": [],
   "source": [
    "my_Lane = Lane(search_margin,nwindows,window_margin,minpix)\n"
   ]
  },
  {
   "cell_type": "code",
   "execution_count": null,
   "metadata": {},
   "outputs": [],
   "source": []
  },
  {
   "cell_type": "code",
   "execution_count": null,
   "metadata": {},
   "outputs": [],
   "source": []
  },
  {
   "cell_type": "code",
   "execution_count": 5,
   "metadata": {},
   "outputs": [],
   "source": [
    "def process_image(image):\n",
    "    #get image size: \n",
    "    imgsize = (image.shape[1] , image.shape[0])\n",
    "    \n",
    "    #undistort the input image :\n",
    "    undist= cv2.undistort(image, mtx, dist, None, mtx)\n",
    "    \n",
    "    #prospective transform\n",
    "    warped =cv2.warpPerspective(undist, M_mean, imgsize)\n",
    "    \n",
    "    #color and gradient transform filter\n",
    "    filtered_binary = lane_filter(warped,s_channel_thresh,l_channel_thresh,gradient_thresh)\n",
    "    \n",
    "    #call to fit polynomial and highlight lane  \n",
    "    # (either search using sliding window or search from last image detections)\n",
    "    lane_highlight_wraped= my_Lane.get_lane_highlighted(filtered_binary)\n",
    "    lane_highlight_unwraped =cv2.warpPerspective(lane_highlight_wraped, MInverse, imgsize)\n",
    "    \n",
    "\n",
    "    #add overlay with the lane\n",
    "    image = cv2.addWeighted(undist, 1, lane_highlight_unwraped, 0.3, 0)\n",
    "    \n",
    "   \n",
    "    \n",
    "    \n",
    "    return image"
   ]
  },
  {
   "cell_type": "markdown",
   "metadata": {},
   "source": [
    "#### Read Video and pass to pipline "
   ]
  },
  {
   "cell_type": "code",
   "execution_count": 6,
   "metadata": {
    "scrolled": false
   },
   "outputs": [
    {
     "name": "stderr",
     "output_type": "stream",
     "text": [
      "t:   2%|▏         | 2/100 [00:00<00:05, 16.99it/s, now=None]"
     ]
    },
    {
     "name": "stdout",
     "output_type": "stream",
     "text": [
      "Moviepy - Building video output_videos/project_video_output.mp4.\n",
      "Moviepy - Writing video output_videos/project_video_output.mp4\n",
      "\n",
      "left_fit :  [ 8.82399372e-05 -1.24141629e-01  3.04541530e+02]\n",
      "right_fit :  [ 6.73450142e-05 -1.18071761e-01  9.41298446e+02]\n",
      "left_fit :  [ 8.82399372e-05 -1.24141629e-01  3.04541530e+02]\n",
      "right_fit :  [ 6.73450142e-05 -1.18071761e-01  9.41298446e+02]\n"
     ]
    },
    {
     "name": "stderr",
     "output_type": "stream",
     "text": [
      "t:   5%|▌         | 5/100 [00:04<01:09,  1.37it/s, now=None]"
     ]
    },
    {
     "name": "stdout",
     "output_type": "stream",
     "text": [
      "left_fit :  [ 8.82399372e-05 -1.24141629e-01  3.04541530e+02]\n",
      "right_fit :  [ 6.73450142e-05 -1.18071761e-01  9.41298446e+02]\n",
      "left_fit :  [ 8.82399372e-05 -1.24141629e-01  3.04541530e+02]\n",
      "right_fit :  [ 6.73450142e-05 -1.18071761e-01  9.41298446e+02]\n"
     ]
    },
    {
     "name": "stderr",
     "output_type": "stream",
     "text": [
      "t:   7%|▋         | 7/100 [00:05<00:38,  2.39it/s, now=None]"
     ]
    },
    {
     "name": "stdout",
     "output_type": "stream",
     "text": [
      "left_fit :  [ 8.82399372e-05 -1.24141629e-01  3.04541530e+02]\n",
      "right_fit :  [ 6.73450142e-05 -1.18071761e-01  9.41298446e+02]\n",
      "left_fit :  [ 8.82399372e-05 -1.24141629e-01  3.04541530e+02]\n",
      "right_fit :  [ 6.73450142e-05 -1.18071761e-01  9.41298446e+02]\n"
     ]
    },
    {
     "name": "stderr",
     "output_type": "stream",
     "text": [
      "t:   9%|▉         | 9/100 [00:05<00:24,  3.69it/s, now=None]"
     ]
    },
    {
     "name": "stdout",
     "output_type": "stream",
     "text": [
      "left_fit :  [ 8.82399372e-05 -1.24141629e-01  3.04541530e+02]\n",
      "right_fit :  [ 6.73450142e-05 -1.18071761e-01  9.41298446e+02]\n",
      "left_fit :  [ 8.82399372e-05 -1.24141629e-01  3.04541530e+02]\n",
      "right_fit :  [ 6.73450142e-05 -1.18071761e-01  9.41298446e+02]\n"
     ]
    },
    {
     "name": "stderr",
     "output_type": "stream",
     "text": [
      "t:  11%|█         | 11/100 [00:05<00:17,  5.01it/s, now=None]"
     ]
    },
    {
     "name": "stdout",
     "output_type": "stream",
     "text": [
      "left_fit :  [ 8.82399372e-05 -1.24141629e-01  3.04541530e+02]\n",
      "right_fit :  [ 6.73450142e-05 -1.18071761e-01  9.41298446e+02]\n",
      "left_fit :  [ 8.82399372e-05 -1.24141629e-01  3.04541530e+02]\n",
      "right_fit :  [ 6.73450142e-05 -1.18071761e-01  9.41298446e+02]\n"
     ]
    },
    {
     "name": "stderr",
     "output_type": "stream",
     "text": [
      "t:  13%|█▎        | 13/100 [00:05<00:13,  6.44it/s, now=None]"
     ]
    },
    {
     "name": "stdout",
     "output_type": "stream",
     "text": [
      "left_fit :  [ 8.82399372e-05 -1.24141629e-01  3.04541530e+02]\n",
      "right_fit :  [ 6.73450142e-05 -1.18071761e-01  9.41298446e+02]\n",
      "left_fit :  [ 8.82399372e-05 -1.24141629e-01  3.04541530e+02]\n",
      "right_fit :  [ 6.73450142e-05 -1.18071761e-01  9.41298446e+02]\n"
     ]
    },
    {
     "name": "stderr",
     "output_type": "stream",
     "text": [
      "t:  15%|█▌        | 15/100 [00:06<00:11,  7.20it/s, now=None]"
     ]
    },
    {
     "name": "stdout",
     "output_type": "stream",
     "text": [
      "left_fit :  [ 8.82399372e-05 -1.24141629e-01  3.04541530e+02]\n",
      "right_fit :  [ 6.73450142e-05 -1.18071761e-01  9.41298446e+02]\n",
      "left_fit :  [ 8.82399372e-05 -1.24141629e-01  3.04541530e+02]\n",
      "right_fit :  [ 6.73450142e-05 -1.18071761e-01  9.41298446e+02]\n"
     ]
    },
    {
     "name": "stderr",
     "output_type": "stream",
     "text": [
      "t:  17%|█▋        | 17/100 [00:06<00:10,  7.80it/s, now=None]"
     ]
    },
    {
     "name": "stdout",
     "output_type": "stream",
     "text": [
      "left_fit :  [ 8.82399372e-05 -1.24141629e-01  3.04541530e+02]\n",
      "right_fit :  [ 6.73450142e-05 -1.18071761e-01  9.41298446e+02]\n",
      "left_fit :  [ 8.82399372e-05 -1.24141629e-01  3.04541530e+02]\n",
      "right_fit :  [ 6.73450142e-05 -1.18071761e-01  9.41298446e+02]\n"
     ]
    },
    {
     "name": "stderr",
     "output_type": "stream",
     "text": [
      "t:  19%|█▉        | 19/100 [00:06<00:09,  8.21it/s, now=None]"
     ]
    },
    {
     "name": "stdout",
     "output_type": "stream",
     "text": [
      "left_fit :  [ 8.82399372e-05 -1.24141629e-01  3.04541530e+02]\n",
      "right_fit :  [ 6.73450142e-05 -1.18071761e-01  9.41298446e+02]\n",
      "left_fit :  [ 8.82399372e-05 -1.24141629e-01  3.04541530e+02]\n",
      "right_fit :  [ 6.73450142e-05 -1.18071761e-01  9.41298446e+02]\n"
     ]
    },
    {
     "name": "stderr",
     "output_type": "stream",
     "text": [
      "t:  21%|██        | 21/100 [00:06<00:09,  8.34it/s, now=None]"
     ]
    },
    {
     "name": "stdout",
     "output_type": "stream",
     "text": [
      "left_fit :  [ 8.82399372e-05 -1.24141629e-01  3.04541530e+02]\n",
      "right_fit :  [ 6.73450142e-05 -1.18071761e-01  9.41298446e+02]\n",
      "left_fit :  [ 8.82399372e-05 -1.24141629e-01  3.04541530e+02]\n",
      "right_fit :  [ 6.73450142e-05 -1.18071761e-01  9.41298446e+02]\n"
     ]
    },
    {
     "name": "stderr",
     "output_type": "stream",
     "text": [
      "t:  23%|██▎       | 23/100 [00:06<00:09,  8.55it/s, now=None]"
     ]
    },
    {
     "name": "stdout",
     "output_type": "stream",
     "text": [
      "left_fit :  [ 8.82399372e-05 -1.24141629e-01  3.04541530e+02]\n",
      "right_fit :  [ 6.73450142e-05 -1.18071761e-01  9.41298446e+02]\n",
      "left_fit :  [ 8.82399372e-05 -1.24141629e-01  3.04541530e+02]\n",
      "right_fit :  [ 6.73450142e-05 -1.18071761e-01  9.41298446e+02]\n"
     ]
    },
    {
     "name": "stderr",
     "output_type": "stream",
     "text": [
      "\r",
      "t:  24%|██▍       | 24/100 [00:07<00:12,  6.18it/s, now=None]"
     ]
    },
    {
     "name": "stdout",
     "output_type": "stream",
     "text": [
      "left_fit :  [ 8.82399372e-05 -1.24141629e-01  3.04541530e+02]\n",
      "right_fit :  [ 6.73450142e-05 -1.18071761e-01  9.41298446e+02]\n"
     ]
    },
    {
     "name": "stderr",
     "output_type": "stream",
     "text": [
      "\r",
      "t:  25%|██▌       | 25/100 [00:07<00:14,  5.27it/s, now=None]"
     ]
    },
    {
     "name": "stdout",
     "output_type": "stream",
     "text": [
      "left_fit :  [ 8.82399372e-05 -1.24141629e-01  3.04541530e+02]\n",
      "right_fit :  [ 6.73450142e-05 -1.18071761e-01  9.41298446e+02]\n"
     ]
    },
    {
     "name": "stderr",
     "output_type": "stream",
     "text": [
      "\r",
      "t:  26%|██▌       | 26/100 [00:07<00:15,  4.79it/s, now=None]"
     ]
    },
    {
     "name": "stdout",
     "output_type": "stream",
     "text": [
      "left_fit :  [ 8.82399372e-05 -1.24141629e-01  3.04541530e+02]\n",
      "right_fit :  [ 6.73450142e-05 -1.18071761e-01  9.41298446e+02]\n"
     ]
    },
    {
     "name": "stderr",
     "output_type": "stream",
     "text": [
      "\r",
      "t:  27%|██▋       | 27/100 [00:07<00:16,  4.43it/s, now=None]"
     ]
    },
    {
     "name": "stdout",
     "output_type": "stream",
     "text": [
      "left_fit :  [ 8.82399372e-05 -1.24141629e-01  3.04541530e+02]\n",
      "right_fit :  [ 6.73450142e-05 -1.18071761e-01  9.41298446e+02]\n"
     ]
    },
    {
     "name": "stderr",
     "output_type": "stream",
     "text": [
      "\r",
      "t:  28%|██▊       | 28/100 [00:08<00:16,  4.36it/s, now=None]"
     ]
    },
    {
     "name": "stdout",
     "output_type": "stream",
     "text": [
      "left_fit :  [ 8.82399372e-05 -1.24141629e-01  3.04541530e+02]\n",
      "right_fit :  [ 6.73450142e-05 -1.18071761e-01  9.41298446e+02]\n"
     ]
    },
    {
     "name": "stderr",
     "output_type": "stream",
     "text": [
      "\r",
      "t:  29%|██▉       | 29/100 [00:08<00:16,  4.21it/s, now=None]"
     ]
    },
    {
     "name": "stdout",
     "output_type": "stream",
     "text": [
      "left_fit :  [ 8.82399372e-05 -1.24141629e-01  3.04541530e+02]\n",
      "right_fit :  [ 6.73450142e-05 -1.18071761e-01  9.41298446e+02]\n"
     ]
    },
    {
     "name": "stderr",
     "output_type": "stream",
     "text": [
      "\r",
      "t:  30%|███       | 30/100 [00:08<00:16,  4.17it/s, now=None]"
     ]
    },
    {
     "name": "stdout",
     "output_type": "stream",
     "text": [
      "left_fit :  [ 8.82399372e-05 -1.24141629e-01  3.04541530e+02]\n",
      "right_fit :  [ 6.73450142e-05 -1.18071761e-01  9.41298446e+02]\n"
     ]
    },
    {
     "name": "stderr",
     "output_type": "stream",
     "text": [
      "t:  32%|███▏      | 32/100 [00:09<00:14,  4.81it/s, now=None]"
     ]
    },
    {
     "name": "stdout",
     "output_type": "stream",
     "text": [
      "left_fit :  [ 8.82399372e-05 -1.24141629e-01  3.04541530e+02]\n",
      "right_fit :  [ 6.73450142e-05 -1.18071761e-01  9.41298446e+02]\n",
      "left_fit :  [ 8.82399372e-05 -1.24141629e-01  3.04541530e+02]\n",
      "right_fit :  [ 6.73450142e-05 -1.18071761e-01  9.41298446e+02]\n"
     ]
    },
    {
     "name": "stderr",
     "output_type": "stream",
     "text": [
      "t:  34%|███▍      | 34/100 [00:09<00:10,  6.16it/s, now=None]"
     ]
    },
    {
     "name": "stdout",
     "output_type": "stream",
     "text": [
      "left_fit :  [ 8.82399372e-05 -1.24141629e-01  3.04541530e+02]\n",
      "right_fit :  [ 6.73450142e-05 -1.18071761e-01  9.41298446e+02]\n",
      "left_fit :  [ 8.82399372e-05 -1.24141629e-01  3.04541530e+02]\n",
      "right_fit :  [ 6.73450142e-05 -1.18071761e-01  9.41298446e+02]\n"
     ]
    },
    {
     "name": "stderr",
     "output_type": "stream",
     "text": [
      "t:  36%|███▌      | 36/100 [00:09<00:09,  7.08it/s, now=None]"
     ]
    },
    {
     "name": "stdout",
     "output_type": "stream",
     "text": [
      "left_fit :  [ 8.82399372e-05 -1.24141629e-01  3.04541530e+02]\n",
      "right_fit :  [ 6.73450142e-05 -1.18071761e-01  9.41298446e+02]\n",
      "left_fit :  [ 8.82399372e-05 -1.24141629e-01  3.04541530e+02]\n",
      "right_fit :  [ 6.73450142e-05 -1.18071761e-01  9.41298446e+02]\n"
     ]
    },
    {
     "name": "stderr",
     "output_type": "stream",
     "text": [
      "t:  38%|███▊      | 38/100 [00:09<00:08,  7.51it/s, now=None]"
     ]
    },
    {
     "name": "stdout",
     "output_type": "stream",
     "text": [
      "left_fit :  [ 8.82399372e-05 -1.24141629e-01  3.04541530e+02]\n",
      "right_fit :  [ 6.73450142e-05 -1.18071761e-01  9.41298446e+02]\n",
      "left_fit :  [ 8.82399372e-05 -1.24141629e-01  3.04541530e+02]\n",
      "right_fit :  [ 6.73450142e-05 -1.18071761e-01  9.41298446e+02]\n"
     ]
    },
    {
     "name": "stderr",
     "output_type": "stream",
     "text": [
      "t:  40%|████      | 40/100 [00:10<00:07,  8.01it/s, now=None]"
     ]
    },
    {
     "name": "stdout",
     "output_type": "stream",
     "text": [
      "left_fit :  [ 8.82399372e-05 -1.24141629e-01  3.04541530e+02]\n",
      "right_fit :  [ 6.73450142e-05 -1.18071761e-01  9.41298446e+02]\n",
      "left_fit :  [ 8.82399372e-05 -1.24141629e-01  3.04541530e+02]\n",
      "right_fit :  [ 6.73450142e-05 -1.18071761e-01  9.41298446e+02]\n"
     ]
    },
    {
     "name": "stderr",
     "output_type": "stream",
     "text": [
      "t:  42%|████▏     | 42/100 [00:10<00:07,  7.79it/s, now=None]"
     ]
    },
    {
     "name": "stdout",
     "output_type": "stream",
     "text": [
      "left_fit :  [ 8.82399372e-05 -1.24141629e-01  3.04541530e+02]\n",
      "right_fit :  [ 6.73450142e-05 -1.18071761e-01  9.41298446e+02]\n",
      "left_fit :  [ 8.82399372e-05 -1.24141629e-01  3.04541530e+02]\n",
      "right_fit :  [ 6.73450142e-05 -1.18071761e-01  9.41298446e+02]\n"
     ]
    },
    {
     "name": "stderr",
     "output_type": "stream",
     "text": [
      "t:  44%|████▍     | 44/100 [00:10<00:07,  7.19it/s, now=None]"
     ]
    },
    {
     "name": "stdout",
     "output_type": "stream",
     "text": [
      "left_fit :  [ 8.82399372e-05 -1.24141629e-01  3.04541530e+02]\n",
      "right_fit :  [ 6.73450142e-05 -1.18071761e-01  9.41298446e+02]\n",
      "left_fit :  [ 8.82399372e-05 -1.24141629e-01  3.04541530e+02]\n",
      "right_fit :  [ 6.73450142e-05 -1.18071761e-01  9.41298446e+02]\n"
     ]
    },
    {
     "name": "stderr",
     "output_type": "stream",
     "text": [
      "t:  46%|████▌     | 46/100 [00:10<00:07,  7.19it/s, now=None]"
     ]
    },
    {
     "name": "stdout",
     "output_type": "stream",
     "text": [
      "left_fit :  [ 8.82399372e-05 -1.24141629e-01  3.04541530e+02]\n",
      "right_fit :  [ 6.73450142e-05 -1.18071761e-01  9.41298446e+02]\n",
      "left_fit :  [ 8.82399372e-05 -1.24141629e-01  3.04541530e+02]\n",
      "right_fit :  [ 6.73450142e-05 -1.18071761e-01  9.41298446e+02]\n"
     ]
    },
    {
     "name": "stderr",
     "output_type": "stream",
     "text": [
      "t:  48%|████▊     | 48/100 [00:11<00:06,  7.74it/s, now=None]"
     ]
    },
    {
     "name": "stdout",
     "output_type": "stream",
     "text": [
      "left_fit :  [ 8.82399372e-05 -1.24141629e-01  3.04541530e+02]\n",
      "right_fit :  [ 6.73450142e-05 -1.18071761e-01  9.41298446e+02]\n",
      "left_fit :  [ 8.82399372e-05 -1.24141629e-01  3.04541530e+02]\n",
      "right_fit :  [ 6.73450142e-05 -1.18071761e-01  9.41298446e+02]\n"
     ]
    },
    {
     "name": "stderr",
     "output_type": "stream",
     "text": [
      "t:  50%|█████     | 50/100 [00:11<00:06,  8.04it/s, now=None]"
     ]
    },
    {
     "name": "stdout",
     "output_type": "stream",
     "text": [
      "left_fit :  [ 8.82399372e-05 -1.24141629e-01  3.04541530e+02]\n",
      "right_fit :  [ 6.73450142e-05 -1.18071761e-01  9.41298446e+02]\n",
      "left_fit :  [ 8.82399372e-05 -1.24141629e-01  3.04541530e+02]\n",
      "right_fit :  [ 6.73450142e-05 -1.18071761e-01  9.41298446e+02]\n"
     ]
    },
    {
     "name": "stderr",
     "output_type": "stream",
     "text": [
      "t:  52%|█████▏    | 52/100 [00:11<00:05,  8.11it/s, now=None]"
     ]
    },
    {
     "name": "stdout",
     "output_type": "stream",
     "text": [
      "left_fit :  [ 8.82399372e-05 -1.24141629e-01  3.04541530e+02]\n",
      "right_fit :  [ 6.73450142e-05 -1.18071761e-01  9.41298446e+02]\n",
      "left_fit :  [ 8.82399372e-05 -1.24141629e-01  3.04541530e+02]\n",
      "right_fit :  [ 6.73450142e-05 -1.18071761e-01  9.41298446e+02]\n"
     ]
    },
    {
     "name": "stderr",
     "output_type": "stream",
     "text": [
      "t:  54%|█████▍    | 54/100 [00:11<00:05,  7.86it/s, now=None]"
     ]
    },
    {
     "name": "stdout",
     "output_type": "stream",
     "text": [
      "left_fit :  [ 8.82399372e-05 -1.24141629e-01  3.04541530e+02]\n",
      "right_fit :  [ 6.73450142e-05 -1.18071761e-01  9.41298446e+02]\n",
      "left_fit :  [ 8.82399372e-05 -1.24141629e-01  3.04541530e+02]\n",
      "right_fit :  [ 6.73450142e-05 -1.18071761e-01  9.41298446e+02]\n"
     ]
    },
    {
     "name": "stderr",
     "output_type": "stream",
     "text": [
      "\r",
      "t:  55%|█████▌    | 55/100 [00:12<00:06,  6.99it/s, now=None]"
     ]
    },
    {
     "name": "stdout",
     "output_type": "stream",
     "text": [
      "left_fit :  [ 8.82399372e-05 -1.24141629e-01  3.04541530e+02]\n",
      "right_fit :  [ 6.73450142e-05 -1.18071761e-01  9.41298446e+02]\n"
     ]
    },
    {
     "name": "stderr",
     "output_type": "stream",
     "text": [
      "\r",
      "t:  56%|█████▌    | 56/100 [00:12<00:07,  5.67it/s, now=None]"
     ]
    },
    {
     "name": "stdout",
     "output_type": "stream",
     "text": [
      "left_fit :  [ 8.82399372e-05 -1.24141629e-01  3.04541530e+02]\n",
      "right_fit :  [ 6.73450142e-05 -1.18071761e-01  9.41298446e+02]\n"
     ]
    },
    {
     "name": "stderr",
     "output_type": "stream",
     "text": [
      "\r",
      "t:  57%|█████▋    | 57/100 [00:12<00:08,  5.04it/s, now=None]"
     ]
    },
    {
     "name": "stdout",
     "output_type": "stream",
     "text": [
      "left_fit :  [ 8.82399372e-05 -1.24141629e-01  3.04541530e+02]\n",
      "right_fit :  [ 6.73450142e-05 -1.18071761e-01  9.41298446e+02]\n"
     ]
    },
    {
     "name": "stderr",
     "output_type": "stream",
     "text": [
      "\r",
      "t:  58%|█████▊    | 58/100 [00:12<00:09,  4.58it/s, now=None]"
     ]
    },
    {
     "name": "stdout",
     "output_type": "stream",
     "text": [
      "left_fit :  [ 8.82399372e-05 -1.24141629e-01  3.04541530e+02]\n",
      "right_fit :  [ 6.73450142e-05 -1.18071761e-01  9.41298446e+02]\n"
     ]
    },
    {
     "name": "stderr",
     "output_type": "stream",
     "text": [
      "\r",
      "t:  59%|█████▉    | 59/100 [00:13<00:09,  4.42it/s, now=None]"
     ]
    },
    {
     "name": "stdout",
     "output_type": "stream",
     "text": [
      "left_fit :  [ 8.82399372e-05 -1.24141629e-01  3.04541530e+02]\n",
      "right_fit :  [ 6.73450142e-05 -1.18071761e-01  9.41298446e+02]\n"
     ]
    },
    {
     "name": "stderr",
     "output_type": "stream",
     "text": [
      "\r",
      "t:  60%|██████    | 60/100 [00:13<00:09,  4.34it/s, now=None]"
     ]
    },
    {
     "name": "stdout",
     "output_type": "stream",
     "text": [
      "left_fit :  [ 8.82399372e-05 -1.24141629e-01  3.04541530e+02]\n",
      "right_fit :  [ 6.73450142e-05 -1.18071761e-01  9.41298446e+02]\n"
     ]
    },
    {
     "name": "stderr",
     "output_type": "stream",
     "text": [
      "\r",
      "t:  61%|██████    | 61/100 [00:13<00:09,  4.29it/s, now=None]"
     ]
    },
    {
     "name": "stdout",
     "output_type": "stream",
     "text": [
      "left_fit :  [ 8.82399372e-05 -1.24141629e-01  3.04541530e+02]\n",
      "right_fit :  [ 6.73450142e-05 -1.18071761e-01  9.41298446e+02]\n"
     ]
    },
    {
     "name": "stderr",
     "output_type": "stream",
     "text": [
      "\r",
      "t:  62%|██████▏   | 62/100 [00:13<00:08,  4.30it/s, now=None]"
     ]
    },
    {
     "name": "stdout",
     "output_type": "stream",
     "text": [
      "left_fit :  [ 8.82399372e-05 -1.24141629e-01  3.04541530e+02]\n",
      "right_fit :  [ 6.73450142e-05 -1.18071761e-01  9.41298446e+02]\n"
     ]
    },
    {
     "name": "stderr",
     "output_type": "stream",
     "text": [
      "t:  64%|██████▍   | 64/100 [00:14<00:07,  4.95it/s, now=None]"
     ]
    },
    {
     "name": "stdout",
     "output_type": "stream",
     "text": [
      "left_fit :  [ 8.82399372e-05 -1.24141629e-01  3.04541530e+02]\n",
      "right_fit :  [ 6.73450142e-05 -1.18071761e-01  9.41298446e+02]\n",
      "left_fit :  [ 8.82399372e-05 -1.24141629e-01  3.04541530e+02]\n",
      "right_fit :  [ 6.73450142e-05 -1.18071761e-01  9.41298446e+02]\n"
     ]
    },
    {
     "name": "stderr",
     "output_type": "stream",
     "text": [
      "t:  66%|██████▌   | 66/100 [00:14<00:05,  6.20it/s, now=None]"
     ]
    },
    {
     "name": "stdout",
     "output_type": "stream",
     "text": [
      "left_fit :  [ 8.82399372e-05 -1.24141629e-01  3.04541530e+02]\n",
      "right_fit :  [ 6.73450142e-05 -1.18071761e-01  9.41298446e+02]\n",
      "left_fit :  [ 8.82399372e-05 -1.24141629e-01  3.04541530e+02]\n",
      "right_fit :  [ 6.73450142e-05 -1.18071761e-01  9.41298446e+02]\n"
     ]
    },
    {
     "name": "stderr",
     "output_type": "stream",
     "text": [
      "t:  68%|██████▊   | 68/100 [00:14<00:04,  7.01it/s, now=None]"
     ]
    },
    {
     "name": "stdout",
     "output_type": "stream",
     "text": [
      "left_fit :  [ 8.82399372e-05 -1.24141629e-01  3.04541530e+02]\n",
      "right_fit :  [ 6.73450142e-05 -1.18071761e-01  9.41298446e+02]\n",
      "left_fit :  [ 8.82399372e-05 -1.24141629e-01  3.04541530e+02]\n",
      "right_fit :  [ 6.73450142e-05 -1.18071761e-01  9.41298446e+02]\n"
     ]
    },
    {
     "name": "stderr",
     "output_type": "stream",
     "text": [
      "t:  70%|███████   | 70/100 [00:14<00:04,  7.49it/s, now=None]"
     ]
    },
    {
     "name": "stdout",
     "output_type": "stream",
     "text": [
      "left_fit :  [ 8.82399372e-05 -1.24141629e-01  3.04541530e+02]\n",
      "right_fit :  [ 6.73450142e-05 -1.18071761e-01  9.41298446e+02]\n",
      "left_fit :  [ 8.82399372e-05 -1.24141629e-01  3.04541530e+02]\n",
      "right_fit :  [ 6.73450142e-05 -1.18071761e-01  9.41298446e+02]\n"
     ]
    },
    {
     "name": "stderr",
     "output_type": "stream",
     "text": [
      "\r",
      "t:  71%|███████   | 71/100 [00:15<00:04,  7.05it/s, now=None]"
     ]
    },
    {
     "name": "stdout",
     "output_type": "stream",
     "text": [
      "left_fit :  [ 8.82399372e-05 -1.24141629e-01  3.04541530e+02]\n",
      "right_fit :  [ 6.73450142e-05 -1.18071761e-01  9.41298446e+02]\n"
     ]
    },
    {
     "name": "stderr",
     "output_type": "stream",
     "text": [
      "\r",
      "t:  72%|███████▏  | 72/100 [00:15<00:04,  5.78it/s, now=None]"
     ]
    },
    {
     "name": "stdout",
     "output_type": "stream",
     "text": [
      "left_fit :  [ 8.82399372e-05 -1.24141629e-01  3.04541530e+02]\n",
      "right_fit :  [ 6.73450142e-05 -1.18071761e-01  9.41298446e+02]\n"
     ]
    },
    {
     "name": "stderr",
     "output_type": "stream",
     "text": [
      "\r",
      "t:  73%|███████▎  | 73/100 [00:15<00:05,  5.19it/s, now=None]"
     ]
    },
    {
     "name": "stdout",
     "output_type": "stream",
     "text": [
      "left_fit :  [ 8.82399372e-05 -1.24141629e-01  3.04541530e+02]\n",
      "right_fit :  [ 6.73450142e-05 -1.18071761e-01  9.41298446e+02]\n"
     ]
    },
    {
     "name": "stderr",
     "output_type": "stream",
     "text": [
      "\r",
      "t:  74%|███████▍  | 74/100 [00:15<00:05,  4.88it/s, now=None]"
     ]
    },
    {
     "name": "stdout",
     "output_type": "stream",
     "text": [
      "left_fit :  [ 8.82399372e-05 -1.24141629e-01  3.04541530e+02]\n",
      "right_fit :  [ 6.73450142e-05 -1.18071761e-01  9.41298446e+02]\n"
     ]
    },
    {
     "name": "stderr",
     "output_type": "stream",
     "text": [
      "\r",
      "t:  75%|███████▌  | 75/100 [00:16<00:05,  4.62it/s, now=None]"
     ]
    },
    {
     "name": "stdout",
     "output_type": "stream",
     "text": [
      "left_fit :  [ 8.82399372e-05 -1.24141629e-01  3.04541530e+02]\n",
      "right_fit :  [ 6.73450142e-05 -1.18071761e-01  9.41298446e+02]\n"
     ]
    },
    {
     "name": "stderr",
     "output_type": "stream",
     "text": [
      "\r",
      "t:  76%|███████▌  | 76/100 [00:16<00:05,  4.39it/s, now=None]"
     ]
    },
    {
     "name": "stdout",
     "output_type": "stream",
     "text": [
      "left_fit :  [ 8.82399372e-05 -1.24141629e-01  3.04541530e+02]\n",
      "right_fit :  [ 6.73450142e-05 -1.18071761e-01  9.41298446e+02]\n"
     ]
    },
    {
     "name": "stderr",
     "output_type": "stream",
     "text": [
      "\r",
      "t:  77%|███████▋  | 77/100 [00:16<00:05,  4.29it/s, now=None]"
     ]
    },
    {
     "name": "stdout",
     "output_type": "stream",
     "text": [
      "left_fit :  [ 8.82399372e-05 -1.24141629e-01  3.04541530e+02]\n",
      "right_fit :  [ 6.73450142e-05 -1.18071761e-01  9.41298446e+02]\n"
     ]
    },
    {
     "name": "stderr",
     "output_type": "stream",
     "text": [
      "\r",
      "t:  78%|███████▊  | 78/100 [00:16<00:05,  4.12it/s, now=None]"
     ]
    },
    {
     "name": "stdout",
     "output_type": "stream",
     "text": [
      "left_fit :  [ 8.82399372e-05 -1.24141629e-01  3.04541530e+02]\n",
      "right_fit :  [ 6.73450142e-05 -1.18071761e-01  9.41298446e+02]\n"
     ]
    },
    {
     "name": "stderr",
     "output_type": "stream",
     "text": [
      "t:  80%|████████  | 80/100 [00:17<00:04,  4.95it/s, now=None]"
     ]
    },
    {
     "name": "stdout",
     "output_type": "stream",
     "text": [
      "left_fit :  [ 8.82399372e-05 -1.24141629e-01  3.04541530e+02]\n",
      "right_fit :  [ 6.73450142e-05 -1.18071761e-01  9.41298446e+02]\n",
      "left_fit :  [ 8.82399372e-05 -1.24141629e-01  3.04541530e+02]\n",
      "right_fit :  [ 6.73450142e-05 -1.18071761e-01  9.41298446e+02]\n"
     ]
    },
    {
     "name": "stderr",
     "output_type": "stream",
     "text": [
      "t:  82%|████████▏ | 82/100 [00:17<00:03,  5.85it/s, now=None]"
     ]
    },
    {
     "name": "stdout",
     "output_type": "stream",
     "text": [
      "left_fit :  [ 8.82399372e-05 -1.24141629e-01  3.04541530e+02]\n",
      "right_fit :  [ 6.73450142e-05 -1.18071761e-01  9.41298446e+02]\n",
      "left_fit :  [ 8.82399372e-05 -1.24141629e-01  3.04541530e+02]\n",
      "right_fit :  [ 6.73450142e-05 -1.18071761e-01  9.41298446e+02]\n"
     ]
    },
    {
     "name": "stderr",
     "output_type": "stream",
     "text": [
      "t:  84%|████████▍ | 84/100 [00:17<00:02,  6.83it/s, now=None]"
     ]
    },
    {
     "name": "stdout",
     "output_type": "stream",
     "text": [
      "left_fit :  [ 8.82399372e-05 -1.24141629e-01  3.04541530e+02]\n",
      "right_fit :  [ 6.73450142e-05 -1.18071761e-01  9.41298446e+02]\n",
      "left_fit :  [ 8.82399372e-05 -1.24141629e-01  3.04541530e+02]\n",
      "right_fit :  [ 6.73450142e-05 -1.18071761e-01  9.41298446e+02]\n"
     ]
    },
    {
     "name": "stderr",
     "output_type": "stream",
     "text": [
      "t:  86%|████████▌ | 86/100 [00:17<00:01,  7.14it/s, now=None]"
     ]
    },
    {
     "name": "stdout",
     "output_type": "stream",
     "text": [
      "left_fit :  [ 8.82399372e-05 -1.24141629e-01  3.04541530e+02]\n",
      "right_fit :  [ 6.73450142e-05 -1.18071761e-01  9.41298446e+02]\n",
      "left_fit :  [ 8.82399372e-05 -1.24141629e-01  3.04541530e+02]\n",
      "right_fit :  [ 6.73450142e-05 -1.18071761e-01  9.41298446e+02]\n"
     ]
    },
    {
     "name": "stderr",
     "output_type": "stream",
     "text": [
      "t:  88%|████████▊ | 88/100 [00:18<00:01,  7.01it/s, now=None]"
     ]
    },
    {
     "name": "stdout",
     "output_type": "stream",
     "text": [
      "left_fit :  [ 8.82399372e-05 -1.24141629e-01  3.04541530e+02]\n",
      "right_fit :  [ 6.73450142e-05 -1.18071761e-01  9.41298446e+02]\n",
      "left_fit :  [ 8.82399372e-05 -1.24141629e-01  3.04541530e+02]\n",
      "right_fit :  [ 6.73450142e-05 -1.18071761e-01  9.41298446e+02]\n"
     ]
    },
    {
     "name": "stderr",
     "output_type": "stream",
     "text": [
      "\r",
      "t:  89%|████████▉ | 89/100 [00:18<00:01,  6.78it/s, now=None]"
     ]
    },
    {
     "name": "stdout",
     "output_type": "stream",
     "text": [
      "left_fit :  [ 8.82399372e-05 -1.24141629e-01  3.04541530e+02]\n",
      "right_fit :  [ 6.73450142e-05 -1.18071761e-01  9.41298446e+02]\n",
      "left_fit :  [ 8.82399372e-05 -1.24141629e-01  3.04541530e+02]\n",
      "right_fit :  [ 6.73450142e-05 -1.18071761e-01  9.41298446e+02]\n"
     ]
    },
    {
     "name": "stderr",
     "output_type": "stream",
     "text": [
      "t:  91%|█████████ | 91/100 [00:18<00:01,  6.40it/s, now=None]"
     ]
    },
    {
     "name": "stdout",
     "output_type": "stream",
     "text": [
      "left_fit :  [ 8.82399372e-05 -1.24141629e-01  3.04541530e+02]\n",
      "right_fit :  [ 6.73450142e-05 -1.18071761e-01  9.41298446e+02]\n",
      "left_fit :  [ 8.82399372e-05 -1.24141629e-01  3.04541530e+02]\n",
      "right_fit :  [ 6.73450142e-05 -1.18071761e-01  9.41298446e+02]\n"
     ]
    },
    {
     "name": "stderr",
     "output_type": "stream",
     "text": [
      "t:  93%|█████████▎| 93/100 [00:19<00:01,  5.90it/s, now=None]"
     ]
    },
    {
     "name": "stdout",
     "output_type": "stream",
     "text": [
      "left_fit :  [ 8.82399372e-05 -1.24141629e-01  3.04541530e+02]\n",
      "right_fit :  [ 6.73450142e-05 -1.18071761e-01  9.41298446e+02]\n"
     ]
    },
    {
     "name": "stderr",
     "output_type": "stream",
     "text": [
      "\r",
      "t:  94%|█████████▍| 94/100 [00:19<00:01,  4.48it/s, now=None]"
     ]
    },
    {
     "name": "stdout",
     "output_type": "stream",
     "text": [
      "left_fit :  [ 8.82399372e-05 -1.24141629e-01  3.04541530e+02]\n",
      "right_fit :  [ 6.73450142e-05 -1.18071761e-01  9.41298446e+02]\n"
     ]
    },
    {
     "name": "stderr",
     "output_type": "stream",
     "text": [
      "\r",
      "t:  95%|█████████▌| 95/100 [00:19<00:01,  3.88it/s, now=None]"
     ]
    },
    {
     "name": "stdout",
     "output_type": "stream",
     "text": [
      "left_fit :  [ 8.82399372e-05 -1.24141629e-01  3.04541530e+02]\n",
      "right_fit :  [ 6.73450142e-05 -1.18071761e-01  9.41298446e+02]\n"
     ]
    },
    {
     "name": "stderr",
     "output_type": "stream",
     "text": [
      "\r",
      "t:  96%|█████████▌| 96/100 [00:20<00:01,  3.60it/s, now=None]"
     ]
    },
    {
     "name": "stdout",
     "output_type": "stream",
     "text": [
      "left_fit :  [ 8.82399372e-05 -1.24141629e-01  3.04541530e+02]\n",
      "right_fit :  [ 6.73450142e-05 -1.18071761e-01  9.41298446e+02]\n"
     ]
    },
    {
     "name": "stderr",
     "output_type": "stream",
     "text": [
      "\r",
      "t:  97%|█████████▋| 97/100 [00:20<00:00,  3.40it/s, now=None]"
     ]
    },
    {
     "name": "stdout",
     "output_type": "stream",
     "text": [
      "left_fit :  [ 8.82399372e-05 -1.24141629e-01  3.04541530e+02]\n",
      "right_fit :  [ 6.73450142e-05 -1.18071761e-01  9.41298446e+02]\n"
     ]
    },
    {
     "name": "stderr",
     "output_type": "stream",
     "text": [
      "\r",
      "t:  98%|█████████▊| 98/100 [00:20<00:00,  3.23it/s, now=None]"
     ]
    },
    {
     "name": "stdout",
     "output_type": "stream",
     "text": [
      "left_fit :  [ 8.82399372e-05 -1.24141629e-01  3.04541530e+02]\n",
      "right_fit :  [ 6.73450142e-05 -1.18071761e-01  9.41298446e+02]\n"
     ]
    },
    {
     "name": "stderr",
     "output_type": "stream",
     "text": [
      "\r",
      "t:  99%|█████████▉| 99/100 [00:21<00:00,  3.23it/s, now=None]"
     ]
    },
    {
     "name": "stdout",
     "output_type": "stream",
     "text": [
      "left_fit :  [ 8.82399372e-05 -1.24141629e-01  3.04541530e+02]\n",
      "right_fit :  [ 6.73450142e-05 -1.18071761e-01  9.41298446e+02]\n"
     ]
    },
    {
     "name": "stderr",
     "output_type": "stream",
     "text": [
      "\r",
      "t: 100%|██████████| 100/100 [00:21<00:00,  3.20it/s, now=None]"
     ]
    },
    {
     "name": "stdout",
     "output_type": "stream",
     "text": [
      "left_fit :  [ 8.82399372e-05 -1.24141629e-01  3.04541530e+02]\n",
      "right_fit :  [ 6.73450142e-05 -1.18071761e-01  9.41298446e+02]\n"
     ]
    },
    {
     "name": "stderr",
     "output_type": "stream",
     "text": [
      "\r",
      "                                                              "
     ]
    },
    {
     "name": "stdout",
     "output_type": "stream",
     "text": [
      "left_fit :  [ 8.82399372e-05 -1.24141629e-01  3.04541530e+02]\n",
      "right_fit :  [ 6.73450142e-05 -1.18071761e-01  9.41298446e+02]\n"
     ]
    },
    {
     "name": "stderr",
     "output_type": "stream",
     "text": [
      "\r"
     ]
    },
    {
     "name": "stdout",
     "output_type": "stream",
     "text": [
      "Moviepy - Done !\n",
      "Moviepy - video ready output_videos/project_video_output.mp4\n",
      "Wall time: 23.2 s\n"
     ]
    }
   ],
   "source": [
    "project_output = 'output_videos/project_video_output.mp4'\n",
    "clip1 = VideoFileClip(\"test_videos/project_video.mp4\")#.subclip(38,42)\n",
    "project_clip = clip1.fl_image(process_image) #NOTE: this function expects color images!!\n",
    "%time project_clip.write_videofile(project_output, audio=False)"
   ]
  },
  {
   "cell_type": "code",
   "execution_count": 7,
   "metadata": {},
   "outputs": [
    {
     "data": {
      "text/html": [
       "\n",
       "<video width=\"960\" height=\"540\" controls>\n",
       "  <source src=\"output_videos/project_video_output.mp4\">\n",
       "</video>\n"
      ],
      "text/plain": [
       "<IPython.core.display.HTML object>"
      ]
     },
     "execution_count": 7,
     "metadata": {},
     "output_type": "execute_result"
    }
   ],
   "source": [
    "HTML(\"\"\"\n",
    "<video width=\"960\" height=\"540\" controls>\n",
    "  <source src=\"{0}\">\n",
    "</video>\n",
    "\"\"\".format(project_output))"
   ]
  },
  {
   "cell_type": "code",
   "execution_count": null,
   "metadata": {},
   "outputs": [],
   "source": []
  }
 ],
 "metadata": {
  "kernelspec": {
   "display_name": "Python 3",
   "language": "python",
   "name": "python3"
  },
  "language_info": {
   "codemirror_mode": {
    "name": "ipython",
    "version": 3
   },
   "file_extension": ".py",
   "mimetype": "text/x-python",
   "name": "python",
   "nbconvert_exporter": "python",
   "pygments_lexer": "ipython3",
   "version": "3.7.1"
  }
 },
 "nbformat": 4,
 "nbformat_minor": 4
}
