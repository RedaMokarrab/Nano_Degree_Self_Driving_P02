{
 "cells": [
  {
   "cell_type": "markdown",
   "metadata": {},
   "source": [
    "# Self-Driving Car Engineer Nanodegree\n",
    "\n",
    "\n",
    "## Project: **Advanced Lane finding ** \n",
    "\n",
    "### Part 1: Camera Calibration + Writeup preparation"
   ]
  },
  {
   "cell_type": "markdown",
   "metadata": {},
   "source": [
    "#### Import Packages"
   ]
  },
  {
   "cell_type": "code",
   "execution_count": 1,
   "metadata": {},
   "outputs": [],
   "source": [
    "#importing some useful packages\n",
    "import matplotlib.pyplot as plt\n",
    "import matplotlib.image as mpimg\n",
    "import numpy as np\n",
    "import cv2\n",
    "import math\n",
    "import os\n",
    "import pickle\n",
    "from moviepy.editor import VideoFileClip\n",
    "from IPython.display import HTML\n",
    "\n",
    "from line import *\n",
    "from support_functions import *\n",
    "\n",
    "%matplotlib inline"
   ]
  },
  {
   "cell_type": "markdown",
   "metadata": {},
   "source": [
    "#### Read saved parameters and add new parameters:"
   ]
  },
  {
   "cell_type": "code",
   "execution_count": 2,
   "metadata": {},
   "outputs": [],
   "source": [
    "calibration_pickle = pickle.load( open( \"calibration_parameters.p\", \"rb\" ) )\n",
    "mtx = calibration_pickle[\"mtx\"]\n",
    "dist = calibration_pickle[\"dist_coff\"]\n",
    "M_mean = calibration_pickle[\"matrix\"]\n",
    "MInverse = calibration_pickle[\"inverse_matrix\"]\n",
    "s_channel_thresh = calibration_pickle[\"s_channel_thresh\"]\n",
    "gradient_thresh = calibration_pickle[\"gradient_thresh\"]\n",
    "l_channel_thresh = calibration_pickle[\"l_channel_thresh\"]"
   ]
  },
  {
   "cell_type": "code",
   "execution_count": 3,
   "metadata": {},
   "outputs": [],
   "source": [
    "#search from previous margin\n",
    "search_margin = 60\n",
    "# number of sliding windows\n",
    "nwindows = 9\n",
    "# Set the width of the windows +/- margin\n",
    "window_margin = 70\n",
    "# Set minimum number of pixels found to recenter window\n",
    "minpix = 35"
   ]
  },
  {
   "cell_type": "code",
   "execution_count": 4,
   "metadata": {},
   "outputs": [],
   "source": [
    "my_Lane = Lane(search_margin,nwindows,window_margin,minpix)\n"
   ]
  },
  {
   "cell_type": "code",
   "execution_count": null,
   "metadata": {},
   "outputs": [],
   "source": []
  },
  {
   "cell_type": "code",
   "execution_count": null,
   "metadata": {},
   "outputs": [],
   "source": []
  },
  {
   "cell_type": "code",
   "execution_count": 5,
   "metadata": {},
   "outputs": [],
   "source": [
    "def process_image(image):\n",
    "    #get image size: \n",
    "    imgsize = (image.shape[1] , image.shape[0])\n",
    "    \n",
    "    #undistort the input image :\n",
    "    undist= cv2.undistort(image, mtx, dist, None, mtx)\n",
    "    \n",
    "    #prospective transform\n",
    "    warped =cv2.warpPerspective(undist, M_mean, imgsize)\n",
    "    \n",
    "    #color and gradient transform filter\n",
    "    filtered_binary = lane_filter(warped,s_channel_thresh,l_channel_thresh,gradient_thresh)\n",
    "    \n",
    "    #call to fit polynomial and highlight lane  \n",
    "    # (either search using sliding window or search from last image detections)\n",
    "    lane_highlight_wraped= my_Lane.get_lane_highlighted(filtered_binary)\n",
    "    lane_highlight_unwraped =cv2.warpPerspective(lane_highlight_wraped, MInverse, imgsize)\n",
    "    \n",
    "\n",
    "    #add overlay with the lane\n",
    "    image = cv2.addWeighted(undist, 1, lane_highlight_unwraped, 0.3, 0)\n",
    "    \n",
    "   \n",
    "    \n",
    "    \n",
    "    return image"
   ]
  },
  {
   "cell_type": "markdown",
   "metadata": {},
   "source": [
    "#### Read Video and pass to pipline "
   ]
  },
  {
   "cell_type": "code",
   "execution_count": 6,
   "metadata": {
    "scrolled": false
   },
   "outputs": [
    {
     "name": "stderr",
     "output_type": "stream",
     "text": [
      "t:   0%|          | 2/1260 [00:00<01:24, 14.85it/s, now=None]"
     ]
    },
    {
     "name": "stdout",
     "output_type": "stream",
     "text": [
      "Moviepy - Building video output_videos/project_video_output.mp4.\n",
      "Moviepy - Writing video output_videos/project_video_output.mp4\n",
      "\n"
     ]
    },
    {
     "name": "stderr",
     "output_type": "stream",
     "text": [
      "                                                                \r"
     ]
    },
    {
     "name": "stdout",
     "output_type": "stream",
     "text": [
      "Moviepy - Done !\n",
      "Moviepy - video ready output_videos/project_video_output.mp4\n",
      "Wall time: 4min 5s\n"
     ]
    }
   ],
   "source": [
    "project_output = 'output_videos/project_video_output.mp4'\n",
    "clip1 = VideoFileClip(\"test_videos/project_video.mp4\")#.subclip(38,42)\n",
    "project_clip = clip1.fl_image(process_image) #NOTE: this function expects color images!!\n",
    "%time project_clip.write_videofile(project_output, audio=False)"
   ]
  },
  {
   "cell_type": "code",
   "execution_count": 7,
   "metadata": {},
   "outputs": [
    {
     "data": {
      "text/html": [
       "\n",
       "<video width=\"960\" height=\"540\" controls>\n",
       "  <source src=\"output_videos/project_video_output.mp4\">\n",
       "</video>\n"
      ],
      "text/plain": [
       "<IPython.core.display.HTML object>"
      ]
     },
     "execution_count": 7,
     "metadata": {},
     "output_type": "execute_result"
    }
   ],
   "source": [
    "HTML(\"\"\"\n",
    "<video width=\"960\" height=\"540\" controls>\n",
    "  <source src=\"{0}\">\n",
    "</video>\n",
    "\"\"\".format(project_output))"
   ]
  },
  {
   "cell_type": "code",
   "execution_count": null,
   "metadata": {},
   "outputs": [],
   "source": []
  }
 ],
 "metadata": {
  "kernelspec": {
   "display_name": "Python 3",
   "language": "python",
   "name": "python3"
  },
  "language_info": {
   "codemirror_mode": {
    "name": "ipython",
    "version": 3
   },
   "file_extension": ".py",
   "mimetype": "text/x-python",
   "name": "python",
   "nbconvert_exporter": "python",
   "pygments_lexer": "ipython3",
   "version": "3.7.1"
  }
 },
 "nbformat": 4,
 "nbformat_minor": 4
}
